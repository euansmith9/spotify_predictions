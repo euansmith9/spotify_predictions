{
 "cells": [
  {
   "cell_type": "markdown",
   "metadata": {},
   "source": [
    "CMIPES\n",
    "\n",
    "Connor Martin - 202461546,\n",
    "Iraklis Pissaris - 202492646,\n",
    "Euan Smith - 202490978"
   ]
  },
  {
   "cell_type": "markdown",
   "metadata": {},
   "source": [
    "# **Introduction**\n",
    "\n",
    "The objective of this project is to develop a classification model to predict the genre of a song based on its audio features and metadata. The dataset includes attributes such as tempo (bpm), energy, danceability, loudness, and acousticness, which can provide valuable insights into genre classification. By analysing these features, we aim to determine which factors are most influential in distinguishing between different musical genres.\n",
    "\n",
    "To achieve this, we perform exploratory data analysis (EDA) to understand the distribution of genres and preprocess the data by encoding categorical variables and handling class imbalances. We then train multiple classification models, including Support Vector Machines (SVM), Decision Trees, and Random Forest, to evaluate their effectiveness in predicting genres.\n",
    "\n",
    "Model performance is assessed using accuracy, precision, recall, and F1-score, ensuring a balanced evaluation of prediction quality. The final predictions are submitted to Kaggle, where categorisation accuracy serves as the competition’s evaluation metric. This project highlights the role of feature selection, data balancing techniques, and model tuning in improving genre classification accuracy."
   ]
  },
  {
   "cell_type": "markdown",
   "metadata": {},
   "source": [
    "# **Data Preprocessing**"
   ]
  },
  {
   "cell_type": "markdown",
   "metadata": {},
   "source": [
    "First of we will look at and preprocess our data for the classification task:"
   ]
  },
  {
   "cell_type": "code",
   "execution_count": 2,
   "metadata": {},
   "outputs": [],
   "source": [
    "# Import necessary modules\n",
    "import pandas as pd\n",
    "import numpy as np\n",
    "from sklearn.model_selection import train_test_split, cross_val_score, GridSearchCV, StratifiedKFold\n",
    "from sklearn.svm import SVC\n",
    "from sklearn.tree import DecisionTreeClassifier\n",
    "from sklearn.ensemble import RandomForestClassifier\n",
    "from imblearn.combine import SMOTETomek\n",
    "from imblearn.over_sampling import SMOTE\n",
    "from sklearn.metrics import accuracy_score, classification_report, confusion_matrix\n",
    "from sklearn.feature_selection import RFE\n",
    "\n",
    "training_data = pd.read_csv('CS98XClassificationTrain.csv') # Load training data\n",
    "test_data = pd.read_csv('CS98XClassificationTest.csv') # Load test data\n",
    "\n",
    "# Add a column to indicate whether the data is from training or test set\n",
    "training_data[\"dataset\"] = \"training\"\n",
    "test_data[\"dataset\"] = \"test\"\n",
    "\n",
    "# Combine both datasets into one DataFrame\n",
    "class_data = pd.concat([training_data, test_data])"
   ]
  },
  {
   "cell_type": "code",
   "execution_count": 3,
   "metadata": {},
   "outputs": [
    {
     "name": "stdout",
     "output_type": "stream",
     "text": [
      "Full dataset: top genre    128\n",
      "dtype: int64\n",
      "0\n",
      "Training dataset: top genre    15\n",
      "dtype: int64\n",
      "\n",
      "Test dataset: Series([], dtype: int64)\n"
     ]
    }
   ],
   "source": [
    "print('Full dataset:', class_data.isnull().sum().loc[lambda x: x > 0]) # Checking for null values in training data\n",
    "print(class_data.duplicated().sum()) # Checking for any duplicate entries in training dataset\n",
    "print('Training dataset:', training_data.isnull().sum().loc[lambda x: x > 0]) # Checking for null values in training data\n",
    "print('')\n",
    "print('Test dataset:', test_data.isnull().sum().loc[lambda x: x > 0]) # Checking for null values in test data"
   ]
  },
  {
   "cell_type": "markdown",
   "metadata": {},
   "source": [
    "The full dataset was checked for missing values and duplicate entries. The results showed that some columns contain missing values, with top genre likely being the main affected feature. The training and test datasets were separately checked, confirming missing values in specific columns but no duplicate entries."
   ]
  },
  {
   "cell_type": "code",
   "execution_count": 4,
   "metadata": {},
   "outputs": [
    {
     "data": {
      "text/plain": [
       "array(['adult standards', nan, 'glam rock', 'pop', 'album rock',\n",
       "       'boy band', 'brill building pop', 'rock-and-roll', 'country rock',\n",
       "       'canadian pop', 'dance pop', 'europop', 'bebop', 'art rock',\n",
       "       'disco', 'blues', 'barbadian pop', 'deep adult standards',\n",
       "       'deep house', 'atl hip hop', 'dance rock', 'disco house',\n",
       "       'bubblegum dance', 'classic soul', 'classic uk pop',\n",
       "       'east coast hip hop', 'doo-wop', 'britpop', 'british blues',\n",
       "       'soft rock', 'australian talent show', 'art pop', 'british soul',\n",
       "       'british invasion', 'belgian pop', 'big room', 'german dance',\n",
       "       'italian pop', 'british folk', 'brit funk', 'chicago soul',\n",
       "       'neo mellow', 'british comedy', 'hip hop', 'new wave pop',\n",
       "       'eurodance', 'detroit hip hop', 'classic rock', 'uk garage',\n",
       "       'afrobeat', 'r&b', 'chicago rap', 'classic danish pop',\n",
       "       'british dance band', 'drone folk', 'permanent wave', 'merseybeat',\n",
       "       'g funk', 'blues rock', 'celtic rock', 'bow pop',\n",
       "       'australian rock', 'boogaloo', 'alternative metal',\n",
       "       'belgian dance', 'glam metal', 'latin', 'baroque pop',\n",
       "       'bubble trance', 'canadian folk', 'american folk revival',\n",
       "       'country', 'chanson', 'bubblegum pop', 'classic girl group',\n",
       "       'yodeling', 'afropop', 'hi-nrg', 'louisiana blues', 'hip pop',\n",
       "       'mellow gold', 'avant-garde jazz', 'bronx hip hop', 'glam punk',\n",
       "       'german alternative rock', 'acoustic blues', 'alternative rock'],\n",
       "      dtype=object)"
      ]
     },
     "execution_count": 4,
     "metadata": {},
     "output_type": "execute_result"
    }
   ],
   "source": [
    "training_data['top genre'].unique()"
   ]
  },
  {
   "cell_type": "markdown",
   "metadata": {},
   "source": [
    "The dataset contains a wide range of musical genres, many of which are highly specific subgenres. Some entries have missing values (NaN), which will need to be handled. To simplify the classification task, these genres will be generalised into broader categories which will help improve model performance by reducing the number of target classes, making predictions more reliable while preserving key genre distinctions."
   ]
  },
  {
   "cell_type": "code",
   "execution_count": 5,
   "metadata": {},
   "outputs": [],
   "source": [
    "# Define mapping of keywords to general genres\n",
    "keyword_mapping = {\n",
    "    'pop': 'pop',\n",
    "    'rock': 'rock',\n",
    "    'hip hop': 'hip hop',\n",
    "    'rap': 'hip hop',\n",
    "    'folk': 'country/folk',\n",
    "    'blues': 'blues',\n",
    "    'dance': 'dance',\n",
    "    'disco': 'dance',\n",
    "    'jazz': 'jazz',\n",
    "    'metal': 'metal',\n",
    "    'soul': 'r&b/soul',\n",
    "    'r&b': 'r&b/soul',\n",
    "    'country': 'country/folk',\n",
    "}\n",
    "\n",
    "# Function to map specific genres to general genres based on keywords\n",
    "def map_general_genre(genre):\n",
    "    if isinstance(genre, str):  # Ensure genre is a string\n",
    "        for keyword, general_genre in keyword_mapping.items():\n",
    "            if keyword in genre.lower():\n",
    "                return general_genre\n",
    "    return pd.NA  # Default category for NaN or unmatched genres\n",
    "\n",
    "# Apply mapping function\n",
    "training_data['genre'] = training_data['top genre'].apply(map_general_genre)\n",
    "# Map remaining genres\n",
    "keyword_mapping.update({\n",
    "    'adult standards': 'adult standards',\n",
    "    'bebop': 'jazz',\n",
    "    'deep adult standards': 'adult standards',\n",
    "    'boy band': 'pop',\n",
    "    'deep house': 'dance',\n",
    "    'doo-wop': 'blues',\n",
    "    'australian talent show': 'pop',\n",
    "    'british invasion': 'rock',\n",
    "    'big room': 'dance',\n",
    "    'brit funk': 'r&b/soul',\n",
    "    'neo mellow': 'rock',\n",
    "    'british comedy': 'other',\n",
    "    'uk garage': 'dance',\n",
    "    'afrobeat': 'other',\n",
    "    'permanent wave': 'rock',\n",
    "    'merseybeat': 'rock',\n",
    "    'g funk': 'hip hop',\n",
    "    'boogaloo': 'other',\n",
    "    'latin': 'other',\n",
    "    'bubble trance': 'dance',\n",
    "    'chanson': 'other',\n",
    "    'classic girl group': 'pop',\n",
    "    'yodeling': 'country/folk',\n",
    "    'hi-nrg': 'dance',\n",
    "    'mellow gold': 'rock',\n",
    "    'glam punk': 'rock',\n",
    "    'big beat': 'dance',\n",
    "    'hollywood': 'other',\n",
    "    'cowboy western': 'country/folk',\n",
    "    'native american': 'other',\n",
    "    'beach music': 'pop',\n",
    "    'diva house': 'dance'\n",
    "})\n",
    "\n",
    "# Function to map specific genres to general genres based on keywords\n",
    "def map_general_genre(genre):\n",
    "    if isinstance(genre, str):  # Ensure genre is a string\n",
    "        for keyword, general_genre in keyword_mapping.items():\n",
    "            if keyword in genre.lower():\n",
    "                return general_genre\n",
    "    return pd.NA  # Default category for NaN or unmatched genres\n",
    "\n",
    "# Apply mapping function\n",
    "training_data['genre'] = training_data['top genre'].apply(map_general_genre)\n",
    "\n",
    "# Define a dictionary to manually assign genres based on known artists\n",
    "artist_genre_mapping = {\n",
    "    \"The Teddy Bears\": \"adult standards\",\n",
    "    \"Joan Regan\": \"adult standards\",\n",
    "    \"Green Martini Keys\": \"jazz\",\n",
    "    \"Ike Carpenter Orchestra\": \"jazz\",\n",
    "    \"Jayne Mansfield\": \"adult standards\",\n",
    "    \"Mel Torme & the Mel-Tones\": \"jazz\",\n",
    "    \"Suzi Miller And Johnson Brothers\": \"adult standards\",\n",
    "    \"Terry Dene\": \"rock\",\n",
    "    \"Ten Sharp\": \"pop\",\n",
    "    \"Bob Sharples & His Music\": \"jazz\",\n",
    "    \"Anthony Newley\": \"adult standards\",\n",
    "    \"Stargazers\": \"dance\",\n",
    "    \"Lutricia McNeal\": \"r&b/soul\",\n",
    "    \"Nick Kamen\": \"pop\",\n",
    "    \"U.S.A. For Africa\": \"pop\"\n",
    "}\n",
    "\n",
    "# Assign genres where 'top genre' is missing\n",
    "training_data.loc[training_data['top genre'].isna(), 'top genre'] = \\\n",
    "    training_data.loc[training_data['top genre'].isna(), 'artist'].map(artist_genre_mapping)\n",
    "\n",
    "# Assign genres where 'genre' is missing\n",
    "training_data.loc[training_data['genre'].isna(), 'genre'] = \\\n",
    "    training_data.loc[training_data['genre'].isna(), 'artist'].map(artist_genre_mapping)"
   ]
  },
  {
   "cell_type": "markdown",
   "metadata": {},
   "source": [
    "The dataset's genres were generalised by mapping specific subgenres to broader categories such as pop, rock, hip hop, dance, blues, jazz, country, and R&B/soul. This reduces the number of unique classes, making classification more effective. A keyword-based mapping approach was used to assign each genre to a broader category.\n",
    "\n",
    "For entries where the top genre column was missing, an additional artist-based mapping was applied, assigning genres based on known associations with specific artists. This ensures that no data is left unclassified while maintaining a structured and meaningful genre grouping."
   ]
  },
  {
   "cell_type": "markdown",
   "metadata": {},
   "source": [
    "# **Exploratory Data Analysis**"
   ]
  },
  {
   "cell_type": "code",
   "execution_count": 6,
   "metadata": {},
   "outputs": [
    {
     "data": {
      "image/png": "[encoded data removed]",
      "text/plain": [
       "<Figure size 1200x600 with 1 Axes>"
      ]
     },
     "metadata": {},
     "output_type": "display_data"
    }
   ],
   "source": [
    "# Importing necessary module\n",
    "import matplotlib.pyplot as plt\n",
    "\n",
    "# Count occurrences of each genre\n",
    "genre_counts = training_data['genre'].value_counts()\n",
    "\n",
    "# Plot a bar chart\n",
    "plt.figure(figsize=(12, 6))\n",
    "plt.bar(genre_counts.index, genre_counts.values)\n",
    "plt.xticks(rotation=90)\n",
    "plt.xlabel(\"Genre\")\n",
    "plt.ylabel(\"Count\")\n",
    "plt.title(\"Distribution of Genres\")\n",
    "plt.show()"
   ]
  },
  {
   "cell_type": "markdown",
   "metadata": {},
   "source": [
    "The genre distribution analysis shows that pop and rock are the most dominant categories, each having around 140 songs, followed by adult standards with around 80 songs. Other genres, such as dance, hip hop, R&B/soul, blues, jazz, country/folk, and metal, have significantly fewer entries."
   ]
  },
  {
   "cell_type": "markdown",
   "metadata": {},
   "source": [
    "# **Model Selection**"
   ]
  },
  {
   "cell_type": "code",
   "execution_count": 8,
   "metadata": {},
   "outputs": [
    {
     "name": "stdout",
     "output_type": "stream",
     "text": [
      "Cross-validation results: {'SVM': 0.12929826492058255, 'Decision Tree': 0.8125197168115623, 'Random Forest': 0.880147463409266}\n"
     ]
    }
   ],
   "source": [
    "# Feature Selection: Use Recursive Feature Elimination (RFE)\n",
    "estimator = RandomForestClassifier(n_estimators=100, random_state=42)\n",
    "rfe = RFE(estimator, n_features_to_select=15)  # Adjust the number of features as needed\n",
    "X = training_data.drop(columns=[\"top genre\", 'Id', 'title', 'artist', 'dataset', 'genre'])\n",
    "y = training_data[\"genre\"]\n",
    "X_rfe = rfe.fit_transform(X, y)\n",
    "selected_features = X.columns[rfe.support_].tolist()\n",
    "\n",
    "# Handle class imbalance using SMOTETomek\n",
    "smote_tomek = SMOTETomek(smote=SMOTE(k_neighbors=1), random_state=42)\n",
    "X_resampled, y_resampled = smote_tomek.fit_resample(X_rfe, y)\n",
    "\n",
    "# Split data into training and validation sets\n",
    "X_train, X_val, y_train, y_val = train_test_split(\n",
    "    X_resampled, y_resampled, test_size=0.2, random_state=42\n",
    ")\n",
    "\n",
    "# Define models\n",
    "models = {\n",
    "    \"SVM\": SVC(),\n",
    "    \"Decision Tree\": DecisionTreeClassifier(random_state=42),\n",
    "    \"Random Forest\": RandomForestClassifier(random_state=42),\n",
    "}\n",
    "\n",
    "# Determine the number of splits dynamically\n",
    "min_class_size = min(pd.Series(y_train).value_counts())\n",
    "cv_folds = min(5, min_class_size)  # Ensure cv does not exceed smallest class size\n",
    "\n",
    "# Evaluate models using cross-validation\n",
    "cv_results = {}\n",
    "skf = StratifiedKFold(n_splits=cv_folds, shuffle=True, random_state=42)\n",
    "for name, model in models.items():\n",
    "    scores = cross_val_score(model, X_train, y_train, cv=skf, scoring=\"accuracy\")\n",
    "    cv_results[name] = scores.mean()\n",
    "\n",
    "print(\"Cross-validation results:\", cv_results)"
   ]
  },
  {
   "cell_type": "markdown",
   "metadata": {},
   "source": [
    "We identified the most important features for classification using Recursive Feature Elimination (RFE) with Random Forest classifier to enhance the classification performance. Recursive feature elimination (RFE), is simply an iterative process that removes the least important features, training the model until the optimal amount of features are left (the most predictive ones). This not only increased computational speed but also enhanced the generalizability of the producing model, helping it perform better on unseen data.\n",
    "\n",
    "In building our models to address class imbalance, SMOTETomek was applied, combining oversampling (SMOTE) to generate synthetic minority class samples and undersampling (Tomek links) to remove overlapping majority class samples. This ensures better-balanced training data.\n",
    "\n",
    "Three classification models were evaluated using cross-validation: SVM, Decision Tree, and Random Forest. The Random Forest model performed best with an accuracy of 88.0%, followed by Decision Tree at 81.3%, while SVM performed poorly at 12.9%, likely due to the high-dimensional nature of the dataset. These results suggest that tree-based models are more effective for genre classification."
   ]
  },
  {
   "cell_type": "code",
   "execution_count": 9,
   "metadata": {},
   "outputs": [
    {
     "name": "stdout",
     "output_type": "stream",
     "text": [
      "Best parameters for Random Forest: {'max_depth': 15, 'min_samples_leaf': 3, 'min_samples_split': 5, 'n_estimators': 100}\n",
      "Random Forest Accuracy: 0.8839590443686007\n",
      "\n",
      "Random Forest Classification Report:\n",
      "                  precision    recall  f1-score   support\n",
      "\n",
      "adult standards       0.79      0.71      0.75        31\n",
      "          blues       0.88      1.00      0.93        28\n",
      "   country/folk       1.00      1.00      1.00        31\n",
      "          dance       0.82      0.96      0.88        24\n",
      "        hip hop       0.93      0.96      0.95        28\n",
      "           jazz       1.00      1.00      1.00        30\n",
      "          metal       1.00      1.00      1.00        29\n",
      "          other       1.00      1.00      1.00        25\n",
      "            pop       0.62      0.48      0.54        21\n",
      "       r&b/soul       0.96      0.88      0.92        26\n",
      "           rock       0.52      0.55      0.54        20\n",
      "\n",
      "       accuracy                           0.88       293\n",
      "      macro avg       0.87      0.87      0.86       293\n",
      "   weighted avg       0.88      0.88      0.88       293\n",
      "\n"
     ]
    }
   ],
   "source": [
    "# Hyperparameter tuning\n",
    "param_grid = {\n",
    "    \"n_estimators\": [50, 100, 150],  # Reduced upper limit\n",
    "    \"max_depth\": [6, 10, 15],  # Removed None, reduced range\n",
    "    \"min_samples_split\": [5, 10, 20],  # Increased range for better generalization\n",
    "    \"min_samples_leaf\": [3, 5, 7]  # Slightly increased\n",
    "}\n",
    "\n",
    "grid_search = GridSearchCV(models[\"Random Forest\"], param_grid, cv=cv_folds, scoring=\"accuracy\",\n",
    "                           n_jobs=-1, error_score=\"raise\")\n",
    "grid_search.fit(X_train, y_train)\n",
    "\n",
    "best_model = grid_search.best_estimator_\n",
    "print(f\"Best parameters for Random Forest: {grid_search.best_params_}\")\n",
    "\n",
    "# Train optimised Random Forest\n",
    "best_rf = RandomForestClassifier(max_depth=15, min_samples_leaf=3, min_samples_split=5, n_estimators=150, random_state=42)\n",
    "best_rf.fit(X_train, y_train)\n",
    "rf_preds = best_rf.predict(X_val)\n",
    "\n",
    "# Print accuracy\n",
    "print(\"Random Forest Accuracy:\", accuracy_score(y_val, rf_preds))\n",
    "\n",
    "# Generate classification report\n",
    "print(\"\\nRandom Forest Classification Report:\\n\", classification_report(y_val, rf_preds))"
   ]
  },
  {
   "cell_type": "markdown",
   "metadata": {},
   "source": [
    "Hyperparameter tuning was performed on the Random Forest model using GridSearchCV, optimising parameters such as number of estimators, tree depth, and minimum samples per split and leaf. The best configuration identified was 100 estimators, max depth of 15, min samples split of 5, and min samples leaf of 3.\n",
    "\n",
    "The optimised Random Forest model achieved an accuracy of 88.4%, showing strong performance across most genres. Precision and recall were high for categories like country/folk, jazz, and metal, suggesting the model effectively distinguishes these genres. However, pop and rock had lower recall and f1-scores, indicating challenges in differentiating them, possibly due to genre overlap. Despite this, the model provides a robust classification performance, with balanced precision and recall across most categories."
   ]
  },
  {
   "cell_type": "markdown",
   "metadata": {},
   "source": [
    "# **Predictions**"
   ]
  },
  {
   "cell_type": "code",
   "execution_count": 14,
   "metadata": {},
   "outputs": [
    {
     "name": "stdout",
     "output_type": "stream",
     "text": [
      "    Id        top genre\n",
      "0  454          hip hop\n",
      "1  455             rock\n",
      "2  456  adult standards\n",
      "3  457            dance\n",
      "4  458  adult standards\n"
     ]
    },
    {
     "name": "stderr",
     "output_type": "stream",
     "text": [
      "C:\\Users\\pissa\\anaconda3\\lib\\site-packages\\sklearn\\base.py:443: UserWarning: X has feature names, but RandomForestClassifier was fitted without feature names\n",
      "  warnings.warn(\n"
     ]
    }
   ],
   "source": [
    "# Making predictions of dataset without targets\n",
    "genre_predictions = best_rf.predict(test_data.drop(['dataset', 'title', 'artist', 'Id'], axis=1))\n",
    "\n",
    "# Add predictions to the original dataset\n",
    "rf_results = test_data.copy()\n",
    "rf_results[\"top genre\"] = genre_predictions\n",
    "\n",
    "# Save the predictions to a CSV file\n",
    "rf_results.to_csv('Classification Predictions.csv', index=False)\n",
    "\n",
    "# Ensure test data contains 'Id'\n",
    "submission_classification = test_data[['Id']].copy()\n",
    "\n",
    "# Convert NumPy array to Pandas Series and assign column name\n",
    "submission_classification[\"top genre\"] = genre_predictions  # No need for [\"Predicted_pop\"]\n",
    "\n",
    "# Save the formatted file\n",
    "submission_classification.to_csv(\"submission_classification.csv\", index=False)\n",
    "\n",
    "# Check the first few rows\n",
    "print(submission_classification.head())"
   ]
  },
  {
   "cell_type": "markdown",
   "metadata": {},
   "source": [
    "The Random Forest model was used to predict genres for the test dataset after removing non-numeric features such as title and artist. The predictions were then added back to the original dataset under the column 'top genre' and the results were saved as a CSV file.\n",
    "\n",
    "After submitting our Random Forest Classification model to Kaggle, we received an accuracy score of 0.14285 (14.29%), which is significantly lower than our 87.4% validation accuracy. The most likely reason for this drop is that Kaggle’s test data contains more granular genres, while our training data was generalised into broader categories to improve classification consistency.\n",
    "\n",
    "Since our model was trained on simplified genre categories, it likely struggled to correctly classify highly specific genres in the Kaggle test set. If we had access to the test labels, we could confirm this mismatch. To improve performance, we would need to apply the same genre generalisation process to the Kaggle test data before making predictions, ensuring consistency with our training set. Given that this transformation improved our validation accuracy, applying it to Kaggle’s test data would likely lead to a much higher score."
   ]
  }
 ],
 "metadata": {
  "kernelspec": {
   "display_name": "Python 3 (ipykernel)",
   "language": "python",
   "name": "python3"
  },
  "language_info": {
   "codemirror_mode": {
    "name": "ipython",
    "version": 3
   },
   "file_extension": ".py",
   "mimetype": "text/x-python",
   "name": "python",
   "nbconvert_exporter": "python",
   "pygments_lexer": "ipython3",
   "version": "3.12.4"
  }
 },
 "nbformat": 4,
 "nbformat_minor": 4
}
